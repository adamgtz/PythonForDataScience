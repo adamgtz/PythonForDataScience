{
 "cells": [
  {
   "cell_type": "code",
   "execution_count": 1,
   "id": "9ddeaf80",
   "metadata": {},
   "outputs": [],
   "source": [
    "#Importing the Packages Necessary\n",
    "import pandas as pd\n",
    "import matplotlib.pyplot as plt\n",
    "import seaborn as sns\n",
    "import warnings\n",
    "warnings.filterwarnings('ignore')\n",
    "%matplotlib inline"
   ]
  },
  {
   "cell_type": "code",
   "execution_count": 2,
   "id": "27e61298",
   "metadata": {},
   "outputs": [],
   "source": [
    "#Import the data \n",
    "mov = pd.read_csv('P4-Section6-Homework-Dataset.csv', encoding = 'latin1')"
   ]
  },
  {
   "cell_type": "code",
   "execution_count": 3,
   "id": "baa1544e",
   "metadata": {},
   "outputs": [
    {
     "name": "stdout",
     "output_type": "stream",
     "text": [
      "<class 'pandas.core.frame.DataFrame'>\n",
      "RangeIndex: 608 entries, 0 to 607\n",
      "Data columns (total 18 columns):\n",
      " #   Column                  Non-Null Count  Dtype  \n",
      "---  ------                  --------------  -----  \n",
      " 0   Day of Week             608 non-null    object \n",
      " 1   Director                608 non-null    object \n",
      " 2   Genre                   608 non-null    object \n",
      " 3   Movie Title             608 non-null    object \n",
      " 4   Release Date            608 non-null    object \n",
      " 5   Studio                  608 non-null    object \n",
      " 6   Adjusted Gross ($mill)  608 non-null    object \n",
      " 7   Budget ($mill)          608 non-null    float64\n",
      " 8   Gross ($mill)           608 non-null    object \n",
      " 9   IMDb Rating             608 non-null    float64\n",
      " 10  MovieLens Rating        608 non-null    float64\n",
      " 11  Overseas ($mill)        608 non-null    object \n",
      " 12  Overseas%               608 non-null    float64\n",
      " 13  Profit ($mill)          608 non-null    object \n",
      " 14  Profit%                 608 non-null    float64\n",
      " 15  Runtime (min)           608 non-null    int64  \n",
      " 16  US ($mill)              608 non-null    float64\n",
      " 17  Gross % US              608 non-null    float64\n",
      "dtypes: float64(7), int64(1), object(10)\n",
      "memory usage: 85.6+ KB\n"
     ]
    }
   ],
   "source": [
    "#Explore the dataframe\n",
    "mov.info()"
   ]
  },
  {
   "cell_type": "code",
   "execution_count": 4,
   "id": "3a3650b0",
   "metadata": {},
   "outputs": [
    {
     "data": {
      "text/html": [
       "<div>\n",
       "<style scoped>\n",
       "    .dataframe tbody tr th:only-of-type {\n",
       "        vertical-align: middle;\n",
       "    }\n",
       "\n",
       "    .dataframe tbody tr th {\n",
       "        vertical-align: top;\n",
       "    }\n",
       "\n",
       "    .dataframe thead th {\n",
       "        text-align: right;\n",
       "    }\n",
       "</style>\n",
       "<table border=\"1\" class=\"dataframe\">\n",
       "  <thead>\n",
       "    <tr style=\"text-align: right;\">\n",
       "      <th></th>\n",
       "      <th>Budget ($mill)</th>\n",
       "      <th>IMDb Rating</th>\n",
       "      <th>MovieLens Rating</th>\n",
       "      <th>Overseas%</th>\n",
       "      <th>Profit%</th>\n",
       "      <th>Runtime (min)</th>\n",
       "      <th>US ($mill)</th>\n",
       "      <th>Gross % US</th>\n",
       "    </tr>\n",
       "  </thead>\n",
       "  <tbody>\n",
       "    <tr>\n",
       "      <th>count</th>\n",
       "      <td>608.000000</td>\n",
       "      <td>608.000000</td>\n",
       "      <td>608.000000</td>\n",
       "      <td>608.000000</td>\n",
       "      <td>608.000000</td>\n",
       "      <td>608.000000</td>\n",
       "      <td>608.000000</td>\n",
       "      <td>608.000000</td>\n",
       "    </tr>\n",
       "    <tr>\n",
       "      <th>mean</th>\n",
       "      <td>92.467928</td>\n",
       "      <td>6.923849</td>\n",
       "      <td>3.340378</td>\n",
       "      <td>57.698849</td>\n",
       "      <td>719.278783</td>\n",
       "      <td>117.781250</td>\n",
       "      <td>167.135197</td>\n",
       "      <td>42.301151</td>\n",
       "    </tr>\n",
       "    <tr>\n",
       "      <th>std</th>\n",
       "      <td>59.421407</td>\n",
       "      <td>0.925890</td>\n",
       "      <td>0.454071</td>\n",
       "      <td>12.334237</td>\n",
       "      <td>1942.807248</td>\n",
       "      <td>23.179122</td>\n",
       "      <td>92.465903</td>\n",
       "      <td>12.334237</td>\n",
       "    </tr>\n",
       "    <tr>\n",
       "      <th>min</th>\n",
       "      <td>0.600000</td>\n",
       "      <td>3.600000</td>\n",
       "      <td>1.490000</td>\n",
       "      <td>17.200000</td>\n",
       "      <td>7.700000</td>\n",
       "      <td>30.000000</td>\n",
       "      <td>0.000000</td>\n",
       "      <td>0.000000</td>\n",
       "    </tr>\n",
       "    <tr>\n",
       "      <th>25%</th>\n",
       "      <td>45.000000</td>\n",
       "      <td>6.375000</td>\n",
       "      <td>3.037500</td>\n",
       "      <td>49.900000</td>\n",
       "      <td>201.850000</td>\n",
       "      <td>100.000000</td>\n",
       "      <td>106.950000</td>\n",
       "      <td>33.700000</td>\n",
       "    </tr>\n",
       "    <tr>\n",
       "      <th>50%</th>\n",
       "      <td>80.000000</td>\n",
       "      <td>6.900000</td>\n",
       "      <td>3.365000</td>\n",
       "      <td>58.200000</td>\n",
       "      <td>338.550000</td>\n",
       "      <td>116.000000</td>\n",
       "      <td>141.700000</td>\n",
       "      <td>41.800000</td>\n",
       "    </tr>\n",
       "    <tr>\n",
       "      <th>75%</th>\n",
       "      <td>130.000000</td>\n",
       "      <td>7.600000</td>\n",
       "      <td>3.672500</td>\n",
       "      <td>66.300000</td>\n",
       "      <td>650.100000</td>\n",
       "      <td>130.250000</td>\n",
       "      <td>202.100000</td>\n",
       "      <td>50.100000</td>\n",
       "    </tr>\n",
       "    <tr>\n",
       "      <th>max</th>\n",
       "      <td>300.000000</td>\n",
       "      <td>9.200000</td>\n",
       "      <td>4.500000</td>\n",
       "      <td>100.000000</td>\n",
       "      <td>41333.300000</td>\n",
       "      <td>238.000000</td>\n",
       "      <td>760.500000</td>\n",
       "      <td>82.800000</td>\n",
       "    </tr>\n",
       "  </tbody>\n",
       "</table>\n",
       "</div>"
      ],
      "text/plain": [
       "       Budget ($mill)  IMDb Rating  MovieLens Rating   Overseas%  \\\n",
       "count      608.000000   608.000000        608.000000  608.000000   \n",
       "mean        92.467928     6.923849          3.340378   57.698849   \n",
       "std         59.421407     0.925890          0.454071   12.334237   \n",
       "min          0.600000     3.600000          1.490000   17.200000   \n",
       "25%         45.000000     6.375000          3.037500   49.900000   \n",
       "50%         80.000000     6.900000          3.365000   58.200000   \n",
       "75%        130.000000     7.600000          3.672500   66.300000   \n",
       "max        300.000000     9.200000          4.500000  100.000000   \n",
       "\n",
       "            Profit%  Runtime (min)  US ($mill)  Gross % US  \n",
       "count    608.000000     608.000000  608.000000  608.000000  \n",
       "mean     719.278783     117.781250  167.135197   42.301151  \n",
       "std     1942.807248      23.179122   92.465903   12.334237  \n",
       "min        7.700000      30.000000    0.000000    0.000000  \n",
       "25%      201.850000     100.000000  106.950000   33.700000  \n",
       "50%      338.550000     116.000000  141.700000   41.800000  \n",
       "75%      650.100000     130.250000  202.100000   50.100000  \n",
       "max    41333.300000     238.000000  760.500000   82.800000  "
      ]
     },
     "execution_count": 4,
     "metadata": {},
     "output_type": "execute_result"
    }
   ],
   "source": [
    "#Check the summary of the dataframe\n",
    "mov.describe()"
   ]
  },
  {
   "cell_type": "code",
   "execution_count": 5,
   "id": "407ce9ce",
   "metadata": {},
   "outputs": [
    {
     "data": {
      "text/plain": [
       "Index(['Day of Week', 'Director', 'Genre', 'Movie Title', 'Release Date',\n",
       "       'Studio', 'Adjusted Gross ($mill)', 'Budget ($mill)', 'Gross ($mill)',\n",
       "       'IMDb Rating', 'MovieLens Rating', 'Overseas ($mill)', 'Overseas%',\n",
       "       'Profit ($mill)', 'Profit%', 'Runtime (min)', 'US ($mill)',\n",
       "       'Gross % US'],\n",
       "      dtype='object')"
      ]
     },
     "execution_count": 5,
     "metadata": {},
     "output_type": "execute_result"
    }
   ],
   "source": [
    "mov.columns"
   ]
  },
  {
   "cell_type": "code",
   "execution_count": 6,
   "id": "04fabdf3",
   "metadata": {},
   "outputs": [],
   "source": [
    "mov.columns = ['DayOfWeek', 'Director', 'Genre', 'MovieTitle', 'ReleaseDate',\n",
    "       'Studio', 'AdjGross', 'BudgetMil', 'GrossMil',\n",
    "       'IMDbRat', 'MovieLensRat', 'OverseasMil', 'OverseasPercent',\n",
    "       'ProfitMil', 'ProfitPercent', 'Runtime', 'USMil',\n",
    "       'GrossUS']"
   ]
  },
  {
   "cell_type": "code",
   "execution_count": 7,
   "id": "59b8d6d1",
   "metadata": {},
   "outputs": [
    {
     "data": {
      "text/html": [
       "<div>\n",
       "<style scoped>\n",
       "    .dataframe tbody tr th:only-of-type {\n",
       "        vertical-align: middle;\n",
       "    }\n",
       "\n",
       "    .dataframe tbody tr th {\n",
       "        vertical-align: top;\n",
       "    }\n",
       "\n",
       "    .dataframe thead th {\n",
       "        text-align: right;\n",
       "    }\n",
       "</style>\n",
       "<table border=\"1\" class=\"dataframe\">\n",
       "  <thead>\n",
       "    <tr style=\"text-align: right;\">\n",
       "      <th></th>\n",
       "      <th>DayOfWeek</th>\n",
       "      <th>Director</th>\n",
       "      <th>Genre</th>\n",
       "      <th>MovieTitle</th>\n",
       "      <th>ReleaseDate</th>\n",
       "      <th>Studio</th>\n",
       "      <th>AdjGross</th>\n",
       "      <th>BudgetMil</th>\n",
       "      <th>GrossMil</th>\n",
       "      <th>IMDbRat</th>\n",
       "      <th>MovieLensRat</th>\n",
       "      <th>OverseasMil</th>\n",
       "      <th>OverseasPercent</th>\n",
       "      <th>ProfitMil</th>\n",
       "      <th>ProfitPercent</th>\n",
       "      <th>Runtime</th>\n",
       "      <th>USMil</th>\n",
       "      <th>GrossUS</th>\n",
       "    </tr>\n",
       "  </thead>\n",
       "  <tbody>\n",
       "    <tr>\n",
       "      <th>0</th>\n",
       "      <td>Friday</td>\n",
       "      <td>Brad Bird</td>\n",
       "      <td>action</td>\n",
       "      <td>Tomorrowland</td>\n",
       "      <td>22/05/2015</td>\n",
       "      <td>Buena Vista Studios</td>\n",
       "      <td>202.1</td>\n",
       "      <td>170.0</td>\n",
       "      <td>202.1</td>\n",
       "      <td>6.7</td>\n",
       "      <td>3.26</td>\n",
       "      <td>111.9</td>\n",
       "      <td>55.4</td>\n",
       "      <td>32.1</td>\n",
       "      <td>18.9</td>\n",
       "      <td>130</td>\n",
       "      <td>90.2</td>\n",
       "      <td>44.6</td>\n",
       "    </tr>\n",
       "    <tr>\n",
       "      <th>1</th>\n",
       "      <td>Friday</td>\n",
       "      <td>Scott Waugh</td>\n",
       "      <td>action</td>\n",
       "      <td>Need for Speed</td>\n",
       "      <td>14/03/2014</td>\n",
       "      <td>Buena Vista Studios</td>\n",
       "      <td>204.2</td>\n",
       "      <td>66.0</td>\n",
       "      <td>203.3</td>\n",
       "      <td>6.6</td>\n",
       "      <td>2.97</td>\n",
       "      <td>159.7</td>\n",
       "      <td>78.6</td>\n",
       "      <td>137.3</td>\n",
       "      <td>208.0</td>\n",
       "      <td>132</td>\n",
       "      <td>43.6</td>\n",
       "      <td>21.4</td>\n",
       "    </tr>\n",
       "    <tr>\n",
       "      <th>2</th>\n",
       "      <td>Friday</td>\n",
       "      <td>Patrick Hughes</td>\n",
       "      <td>action</td>\n",
       "      <td>The Expendables 3</td>\n",
       "      <td>15/08/2014</td>\n",
       "      <td>Lionsgate</td>\n",
       "      <td>207.1</td>\n",
       "      <td>100.0</td>\n",
       "      <td>206.2</td>\n",
       "      <td>6.1</td>\n",
       "      <td>2.93</td>\n",
       "      <td>166.9</td>\n",
       "      <td>80.9</td>\n",
       "      <td>106.2</td>\n",
       "      <td>106.2</td>\n",
       "      <td>126</td>\n",
       "      <td>39.3</td>\n",
       "      <td>19.1</td>\n",
       "    </tr>\n",
       "    <tr>\n",
       "      <th>3</th>\n",
       "      <td>Friday</td>\n",
       "      <td>Phil Lord, Chris Miller</td>\n",
       "      <td>comedy</td>\n",
       "      <td>21 Jump Street</td>\n",
       "      <td>16/03/2012</td>\n",
       "      <td>Sony</td>\n",
       "      <td>208.8</td>\n",
       "      <td>42.0</td>\n",
       "      <td>201.6</td>\n",
       "      <td>7.2</td>\n",
       "      <td>3.62</td>\n",
       "      <td>63.1</td>\n",
       "      <td>31.3</td>\n",
       "      <td>159.6</td>\n",
       "      <td>380.0</td>\n",
       "      <td>109</td>\n",
       "      <td>138.4</td>\n",
       "      <td>68.7</td>\n",
       "    </tr>\n",
       "    <tr>\n",
       "      <th>4</th>\n",
       "      <td>Friday</td>\n",
       "      <td>Roland Emmerich</td>\n",
       "      <td>action</td>\n",
       "      <td>White House Down</td>\n",
       "      <td>28/06/2013</td>\n",
       "      <td>Sony</td>\n",
       "      <td>209.7</td>\n",
       "      <td>150.0</td>\n",
       "      <td>205.4</td>\n",
       "      <td>8.0</td>\n",
       "      <td>3.65</td>\n",
       "      <td>132.3</td>\n",
       "      <td>64.4</td>\n",
       "      <td>55.4</td>\n",
       "      <td>36.9</td>\n",
       "      <td>131</td>\n",
       "      <td>73.1</td>\n",
       "      <td>35.6</td>\n",
       "    </tr>\n",
       "  </tbody>\n",
       "</table>\n",
       "</div>"
      ],
      "text/plain": [
       "  DayOfWeek                 Director   Genre         MovieTitle ReleaseDate  \\\n",
       "0    Friday                Brad Bird  action       Tomorrowland  22/05/2015   \n",
       "1    Friday              Scott Waugh  action     Need for Speed  14/03/2014   \n",
       "2    Friday           Patrick Hughes  action  The Expendables 3  15/08/2014   \n",
       "3    Friday  Phil Lord, Chris Miller  comedy     21 Jump Street  16/03/2012   \n",
       "4    Friday          Roland Emmerich  action   White House Down  28/06/2013   \n",
       "\n",
       "                Studio AdjGross  BudgetMil GrossMil  IMDbRat  MovieLensRat  \\\n",
       "0  Buena Vista Studios    202.1      170.0    202.1      6.7          3.26   \n",
       "1  Buena Vista Studios    204.2       66.0    203.3      6.6          2.97   \n",
       "2            Lionsgate    207.1      100.0    206.2      6.1          2.93   \n",
       "3                 Sony    208.8       42.0    201.6      7.2          3.62   \n",
       "4                 Sony    209.7      150.0    205.4      8.0          3.65   \n",
       "\n",
       "  OverseasMil  OverseasPercent ProfitMil  ProfitPercent  Runtime  USMil  \\\n",
       "0       111.9             55.4      32.1           18.9      130   90.2   \n",
       "1       159.7             78.6     137.3          208.0      132   43.6   \n",
       "2       166.9             80.9     106.2          106.2      126   39.3   \n",
       "3        63.1             31.3     159.6          380.0      109  138.4   \n",
       "4       132.3             64.4      55.4           36.9      131   73.1   \n",
       "\n",
       "   GrossUS  \n",
       "0     44.6  \n",
       "1     21.4  \n",
       "2     19.1  \n",
       "3     68.7  \n",
       "4     35.6  "
      ]
     },
     "execution_count": 7,
     "metadata": {},
     "output_type": "execute_result"
    }
   ],
   "source": [
    "mov.head()"
   ]
  },
  {
   "cell_type": "code",
   "execution_count": 8,
   "id": "52b3cc41",
   "metadata": {},
   "outputs": [],
   "source": [
    "#Change the data types to category instead of object\n",
    "mov.Studio = mov.Studio.astype('category')\n",
    "mov.Genre = mov.Genre.astype('category')"
   ]
  },
  {
   "cell_type": "code",
   "execution_count": 9,
   "id": "84616ced",
   "metadata": {},
   "outputs": [
    {
     "name": "stdout",
     "output_type": "stream",
     "text": [
      "<class 'pandas.core.frame.DataFrame'>\n",
      "RangeIndex: 608 entries, 0 to 607\n",
      "Data columns (total 18 columns):\n",
      " #   Column           Non-Null Count  Dtype   \n",
      "---  ------           --------------  -----   \n",
      " 0   DayOfWeek        608 non-null    object  \n",
      " 1   Director         608 non-null    object  \n",
      " 2   Genre            608 non-null    category\n",
      " 3   MovieTitle       608 non-null    object  \n",
      " 4   ReleaseDate      608 non-null    object  \n",
      " 5   Studio           608 non-null    category\n",
      " 6   AdjGross         608 non-null    object  \n",
      " 7   BudgetMil        608 non-null    float64 \n",
      " 8   GrossMil         608 non-null    object  \n",
      " 9   IMDbRat          608 non-null    float64 \n",
      " 10  MovieLensRat     608 non-null    float64 \n",
      " 11  OverseasMil      608 non-null    object  \n",
      " 12  OverseasPercent  608 non-null    float64 \n",
      " 13  ProfitMil        608 non-null    object  \n",
      " 14  ProfitPercent    608 non-null    float64 \n",
      " 15  Runtime          608 non-null    int64   \n",
      " 16  USMil            608 non-null    float64 \n",
      " 17  GrossUS          608 non-null    float64 \n",
      "dtypes: category(2), float64(7), int64(1), object(8)\n",
      "memory usage: 79.3+ KB\n"
     ]
    }
   ],
   "source": [
    "mov.info()"
   ]
  },
  {
   "cell_type": "code",
   "execution_count": 10,
   "id": "e9c6fec8",
   "metadata": {},
   "outputs": [
    {
     "data": {
      "text/plain": [
       "Index(['Art House Studios', 'Buena Vista Studios', 'Colombia Pictures',\n",
       "       'Dimension Films', 'Disney', 'DreamWorks', 'Fox',\n",
       "       'Fox Searchlight Pictures', 'Gramercy Pictures', 'IFC', 'Lionsgate',\n",
       "       'Lionsgate Films', 'Lionsgate/Summit', 'MGM', 'MiraMax',\n",
       "       'New Line Cinema', 'New Market Films', 'Orion',\n",
       "       'Pacific Data/DreamWorks', 'Paramount Pictures', 'Path_ Distribution',\n",
       "       'Relativity Media', 'Revolution Studios', 'Screen Gems', 'Sony',\n",
       "       'Sony Picture Classics', 'StudioCanal', 'Summit Entertainment',\n",
       "       'TriStar', 'UA Entertainment', 'USA', 'Universal', 'Vestron Pictures',\n",
       "       'WB', 'WB/New Line', 'Weinstein Company'],\n",
       "      dtype='object')"
      ]
     },
     "execution_count": 10,
     "metadata": {},
     "output_type": "execute_result"
    }
   ],
   "source": [
    "mov.Studio.cat.categories"
   ]
  },
  {
   "cell_type": "code",
   "execution_count": 11,
   "id": "e30f5d5f",
   "metadata": {},
   "outputs": [
    {
     "data": {
      "text/plain": [
       "['Buena Vista Studios', 'Lionsgate', 'Sony', 'Universal', 'Paramount Pictures', ..., 'Vestron Pictures', 'MGM', 'Orion', 'IFC', 'New Market Films']\n",
       "Length: 36\n",
       "Categories (36, object): ['Buena Vista Studios', 'Lionsgate', 'Sony', 'Universal', ..., 'MGM', 'Orion', 'IFC', 'New Market Films']"
      ]
     },
     "execution_count": 11,
     "metadata": {},
     "output_type": "execute_result"
    }
   ],
   "source": [
    "mov.Studio.unique()"
   ]
  },
  {
   "cell_type": "code",
   "execution_count": 12,
   "id": "5f3f8aea",
   "metadata": {},
   "outputs": [
    {
     "data": {
      "text/plain": [
       "['action', 'comedy', 'adventure', 'horror', 'animation', ..., 'romance', 'fantasy', 'mystery', 'thriller', 'documentary']\n",
       "Length: 15\n",
       "Categories (15, object): ['action', 'comedy', 'adventure', 'horror', ..., 'fantasy', 'mystery', 'thriller', 'documentary']"
      ]
     },
     "execution_count": 12,
     "metadata": {},
     "output_type": "execute_result"
    }
   ],
   "source": [
    "mov.Genre.unique()"
   ]
  },
  {
   "cell_type": "code",
   "execution_count": 27,
   "id": "a7df92fe",
   "metadata": {},
   "outputs": [],
   "source": [
    "# Filter the dataframe by genre\n",
    "#mov2 = mov[(mov.Genre == 'action') | (mov.Genre == 'adventure') | (mov.Genre == 'animation') | \n",
    " #          (mov.Genre == 'comedy') | (mov.Genre == 'drama')]\n",
    "    \n",
    "GenreFilters = ['action', 'adventure', 'animation', 'comedy', 'drama']\n",
    "mov2 = mov[mov.Genre.isin(GenreFilters)]"
   ]
  },
  {
   "cell_type": "code",
   "execution_count": 28,
   "id": "0a315a41",
   "metadata": {},
   "outputs": [
    {
     "data": {
      "text/plain": [
       "['action', 'comedy', 'adventure', 'animation', 'drama']\n",
       "Categories (5, object): ['action', 'comedy', 'adventure', 'animation', 'drama']"
      ]
     },
     "execution_count": 28,
     "metadata": {},
     "output_type": "execute_result"
    }
   ],
   "source": [
    "mov2.Genre.unique()"
   ]
  },
  {
   "cell_type": "code",
   "execution_count": 29,
   "id": "8c10cc90",
   "metadata": {},
   "outputs": [],
   "source": [
    "# Filter the dataframe by studio\n",
    "mov3 = mov2[(mov2.Studio == 'Buena Vista Studios') | (mov2.Studio == 'Fox') | (mov2.Studio == 'Paramount Pictures') |\n",
    "            (mov2.Studio == 'Sony') | (mov2.Studio == 'Universal') | (mov2.Studio == 'WB')]"
   ]
  },
  {
   "cell_type": "code",
   "execution_count": 30,
   "id": "69a33a20",
   "metadata": {},
   "outputs": [
    {
     "data": {
      "text/plain": [
       "['Buena Vista Studios', 'Sony', 'Universal', 'WB', 'Paramount Pictures', 'Fox']\n",
       "Categories (6, object): ['Buena Vista Studios', 'Sony', 'Universal', 'WB', 'Paramount Pictures', 'Fox']"
      ]
     },
     "execution_count": 30,
     "metadata": {},
     "output_type": "execute_result"
    }
   ],
   "source": [
    "mov3.Studio.unique()"
   ]
  },
  {
   "cell_type": "code",
   "execution_count": 31,
   "id": "cceb116b",
   "metadata": {},
   "outputs": [
    {
     "name": "stdout",
     "output_type": "stream",
     "text": [
      "['action', 'comedy', 'adventure', 'animation', 'drama']\n",
      "Categories (5, object): ['action', 'comedy', 'adventure', 'animation', 'drama']\n",
      "['Buena Vista Studios', 'Sony', 'Universal', 'WB', 'Paramount Pictures', 'Fox']\n",
      "Categories (6, object): ['Buena Vista Studios', 'Sony', 'Universal', 'WB', 'Paramount Pictures', 'Fox']\n",
      "423\n"
     ]
    }
   ],
   "source": [
    "#Check how the filters worked\n",
    "print(mov3.Genre.unique())\n",
    "print(mov3.Studio.unique())\n",
    "print(len(mov3))"
   ]
  },
  {
   "cell_type": "code",
   "execution_count": 32,
   "id": "3d1eb6a8",
   "metadata": {},
   "outputs": [],
   "source": [
    "#This is how to remove the unused categories, so they do not appear on the final visualization. \n",
    "mov3.Genre.cat.remove_unused_categories(inplace=True) \n",
    "mov3.Studio.cat.remove_unused_categories(inplace=True) "
   ]
  },
  {
   "cell_type": "code",
   "execution_count": 39,
   "id": "232f1a47",
   "metadata": {},
   "outputs": [
    {
     "data": {
      "image/png": "[encoded data removed]",
      "text/plain": [
       "<Figure size 842.4x595.44 with 1 Axes>"
      ]
     },
     "metadata": {},
     "output_type": "display_data"
    }
   ],
   "source": [
    "# Import Package for the size\n",
    "from matplotlib import rcParams\n",
    "# figure size in inches\n",
    "rcParams['figure.figsize'] = 11.7,8.27\n",
    "#Setting the color and style of the grid\n",
    "sns.set_style('darkgrid')\n",
    "\n",
    "# Plot the boxsplots\n",
    "ax = sns.boxplot(data = mov3, x = 'Genre', y = 'GrossUS', orient = 'v', color = 'black', showfliers = False, )\n",
    "plt.setp(ax.artists, alpha = 0.5)\n",
    "\n",
    "# Add in points to show each observation\n",
    "sns.stripplot(x = 'Genre', y = 'GrossUS', data = mov3, jitter = True, size = 6, \n",
    "              linewidth = 0, hue = 'Studio', alpha = 0.7)\n",
    "\n",
    "plt.title('Domestic Gross % By Genre', fontsize = 30)\n",
    "plt.xlabel('Genre', fontsize = 20, color = 'Black')\n",
    "plt.ylabel('Gross % US', fontsize = 20, color = 'Black')\n",
    "plt.yticks(fontsize = 15)\n",
    "plt.xticks(fontsize = 15)\n",
    "\n",
    "# Define where to place the legend\n",
    "plt.legend(bbox_to_anchor = (1.01, 1), loc = 2, borderaxespad = 0., frameon = 0.3, fancybox = True )\n",
    "\n",
    "plt.show()"
   ]
  },
  {
   "cell_type": "code",
   "execution_count": 25,
   "id": "e35ba36f",
   "metadata": {},
   "outputs": [
    {
     "data": {
      "image/png": "[encoded data removed]",
      "text/plain": [
       "<Figure size 504x504 with 1 Axes>"
      ]
     },
     "metadata": {},
     "output_type": "display_data"
    }
   ],
   "source": [
    "vis2 = sns.factorplot(data = mov, x = 'DayOfWeek', kind = 'count', size = 7)"
   ]
  },
  {
   "cell_type": "code",
   "execution_count": null,
   "id": "0935d79d",
   "metadata": {},
   "outputs": [],
   "source": []
  }
 ],
 "metadata": {
  "kernelspec": {
   "display_name": "Python 3",
   "language": "python",
   "name": "python3"
  },
  "language_info": {
   "codemirror_mode": {
    "name": "ipython",
    "version": 3
   },
   "file_extension": ".py",
   "mimetype": "text/x-python",
   "name": "python",
   "nbconvert_exporter": "python",
   "pygments_lexer": "ipython3",
   "version": "3.8.8"
  }
 },
 "nbformat": 4,
 "nbformat_minor": 5
}
